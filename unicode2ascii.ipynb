{
 "cells": [
  {
   "cell_type": "markdown",
   "metadata": {},
   "source": [
    "# Unicode to ASCII converter\n",
    "\n",
    "If you're working with legacy tools that only support ASCII, you have to convert accented Latin characters (or your entire alphabet, if it's not Latin).\n",
    "\n",
    "This notebook uses the [Unidecode](https://pypi.org/project/Unidecode/) Python package to strip diacritics, and do a basic character-to-character transliteration (i.e. it's probably best to use something else for non-western alphabets). It **overwrites** all text files in a specified directory with ASCII versions, and then optionally prepends \"ascii-\" to the start of the filenames, so be sure you have a copy of the original files saved elsewhere before you run this."
   ]
  },
  {
   "cell_type": "markdown",
   "metadata": {},
   "source": [
    "## 1. Setup\n",
    "In this code block, you need to specify the full path to the folder where you've stored the files you want to convert under *sourcefiledirectory*."
   ]
  },
  {
   "cell_type": "code",
   "execution_count": 16,
   "metadata": {},
   "outputs": [],
   "source": [
    "#os is used for things like changing directories and listing files\n",
    "import os\n",
    "\n",
    "#glob provides utilities here\n",
    "import glob\n",
    "\n",
    "#unidecode is used for changing unicode accented characters to an equivalent unaccented version\n",
    "import unidecode\n",
    "\n",
    "#io is used for opening and writing files\n",
    "import io\n",
    "\n",
    "#This is the full path to the directory where you've stored the source texts\n",
    "sourcefiledirectory = '/Users/qad/Documents/texts-to-convert'\n",
    "\n",
    "#Changes the directory to where you've stored the source texts, so you can open them in later code blocks\n",
    "os.chdir(sourcefiledirectory)"
   ]
  },
  {
   "cell_type": "markdown",
   "metadata": {},
   "source": [
    "## 2. Convert Unicode to ASCII\n",
    "This code block converts the Unicode characters to ASCII equivalents, and overwrites the source files using the [\"Western\" (ISO-8859-1) encoding](https://en.wikipedia.org/wiki/ISO/IEC_8859-1) typically used for ASCII files."
   ]
  },
  {
   "cell_type": "code",
   "execution_count": 17,
   "metadata": {},
   "outputs": [],
   "source": [
    "#Look through the directory you specified to find files that end in .txt.\n",
    "for filename in os.listdir(sourcefiledirectory):\n",
    "    if filename.endswith(\".txt\"):\n",
    "        #For each file that ends in .txt, open and read its contents into a string.\n",
    "        f = open(filename, 'r')\n",
    "        text = f.read()\n",
    "        #Replace accented characters with unacceted equivalents\n",
    "        lines = unidecode.unidecode(text)\n",
    "\n",
    "        #Create a new file with the same file name (i.e. replacing the original file) and write the modified lines\n",
    "        #This method also automatically closes the file once it's done\n",
    "        with io.open(filename, \"w\", encoding=\"ISO-8859-1\") as out:\n",
    "            out.writelines(lines)      \n",
    "            "
   ]
  },
  {
   "cell_type": "markdown",
   "metadata": {},
   "source": [
    "## 3. Rename files\n",
    "Optional-- you can run this code block to prepend *ascii_* to the filenames of the text files you've just converted. Or if the original filenames are fine, you can skip this."
   ]
  },
  {
   "cell_type": "code",
   "execution_count": 18,
   "metadata": {},
   "outputs": [],
   "source": [
    "\n",
    "for filename in os.listdir(sourcefiledirectory):\n",
    "    if filename.endswith(\".txt\"):\n",
    "        new_filename = \"ascii_\" + filename\n",
    "        os.rename(filename,new_filename)"
   ]
  }
 ],
 "metadata": {
  "kernelspec": {
   "display_name": "Python 3",
   "language": "python",
   "name": "python3"
  },
  "language_info": {
   "codemirror_mode": {
    "name": "ipython",
    "version": 3
   },
   "file_extension": ".py",
   "mimetype": "text/x-python",
   "name": "python",
   "nbconvert_exporter": "python",
   "pygments_lexer": "ipython3",
   "version": "3.6.8"
  }
 },
 "nbformat": 4,
 "nbformat_minor": 2
}
